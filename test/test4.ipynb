{
 "cells": [
  {
   "cell_type": "code",
   "execution_count": 2,
   "metadata": {},
   "outputs": [
    {
     "data": {
      "text/plain": [
       "<tf.Tensor: shape=(16,), dtype=float64, numpy=\n",
       "array([12.44572842, -1.4671513 ,  1.11915102,  3.97395516, -0.47949095,\n",
       "        1.8693353 ,  0.80340229, -0.42496952, -0.19779324, -3.05811889,\n",
       "       -0.7872147 , -0.13967748,  0.15165718, -1.37268262, -1.3585825 ,\n",
       "        0.20922853])>"
      ]
     },
     "execution_count": 2,
     "metadata": {},
     "output_type": "execute_result"
    }
   ],
   "source": [
    "import os\n",
    "\n",
    "os.environ[\"TF_CPP_MIN_LOG_LEVEL\"] = \"3\"\n",
    "os.environ[\"ENV TF_ENABLE_ONEDNN_OPTS\"] = \"1\"\n",
    "\n",
    "import tensorflow as tf\n",
    "from tensorflow.keras.layers import *\n",
    "import numpy as np\n",
    "import math\n",
    "\n",
    "\n",
    "f_dct = lambda x: tf.signal.dct(x, n=16)\n",
    "x = np.random.rand(32)\n",
    "y = f_dct(x)\n",
    "y"
   ]
  },
  {
   "cell_type": "code",
   "execution_count": 4,
   "metadata": {},
   "outputs": [
    {
     "data": {
      "text/plain": [
       "[<tf.Tensor: shape=(4, 1), dtype=float32, numpy=\n",
       " array([[0.299],\n",
       "        [0.451],\n",
       "        [0.214],\n",
       "        [0.309]], dtype=float32)>,\n",
       " <tf.Tensor: shape=(4, 2), dtype=float32, numpy=\n",
       " array([[0.973, 0.299],\n",
       "        [0.327, 0.451],\n",
       "        [0.251, 0.214],\n",
       "        [0.478, 0.309]], dtype=float32)>,\n",
       " <tf.Tensor: shape=(4, 4), dtype=float32, numpy=\n",
       " array([[0.03 , 0.094, 0.973, 0.299],\n",
       "        [0.198, 0.456, 0.327, 0.451],\n",
       "        [0.24 , 0.879, 0.251, 0.214],\n",
       "        [0.616, 0.41 , 0.478, 0.309]], dtype=float32)>,\n",
       " <tf.Tensor: shape=(4, 8), dtype=float32, numpy=\n",
       " array([[0.538, 0.005, 0.937, 0.334, 0.03 , 0.094, 0.973, 0.299],\n",
       "        [0.602, 0.573, 0.387, 0.373, 0.198, 0.456, 0.327, 0.451],\n",
       "        [0.216, 0.191, 0.132, 0.961, 0.24 , 0.879, 0.251, 0.214],\n",
       "        [0.056, 0.438, 0.986, 0.81 , 0.616, 0.41 , 0.478, 0.309]],\n",
       "       dtype=float32)>]"
      ]
     },
     "execution_count": 4,
     "metadata": {},
     "output_type": "execute_result"
    }
   ],
   "source": [
    "x2 = [Lambda(lambda z: z[0][:, -(2 ** z[1]) :])((x1, i)) for i in range(n)]\n",
    "x3 = [Lambda(lambda z: z[:, -(2 ** i) :])(x1) for i in range(n)]\n",
    "print(x2, x3)\n"
   ]
  },
  {
   "cell_type": "code",
   "execution_count": 5,
   "metadata": {},
   "outputs": [
    {
     "name": "stdout",
     "output_type": "stream",
     "text": [
      "[<tf.Tensor: shape=(4, 1), dtype=float32, numpy=\n",
      "array([[0.],\n",
      "       [0.],\n",
      "       [0.],\n",
      "       [0.]], dtype=float32)>, <tf.Tensor: shape=(4, 1), dtype=float32, numpy=\n",
      "array([[0.31099996],\n",
      "       [0.139     ],\n",
      "       [0.07499999],\n",
      "       [0.91300005]], dtype=float32)>, <tf.Tensor: shape=(4, 1), dtype=float32, numpy=\n",
      "array([[0.579     ],\n",
      "       [0.37      ],\n",
      "       [0.602     ],\n",
      "       [0.91300005]], dtype=float32)>, <tf.Tensor: shape=(4, 1), dtype=float32, numpy=\n",
      "array([[0.643     ],\n",
      "       [0.666     ],\n",
      "       [0.65      ],\n",
      "       [0.91300005]], dtype=float32)>]\n"
     ]
    },
    {
     "data": {
      "text/plain": [
       "<tf.Tensor: shape=(4, 4), dtype=float32, numpy=\n",
       "array([[0.641     , 0.48549998, 0.288     , 0.40574998],\n",
       "       [0.847     , 0.77750003, 0.62975   , 0.518625  ],\n",
       "       [0.788     , 0.75049996, 0.52125   , 0.44612503],\n",
       "       [0.975     , 0.51850003, 0.48575002, 0.444875  ]], dtype=float32)>"
      ]
     },
     "execution_count": 5,
     "metadata": {},
     "output_type": "execute_result"
    }
   ],
   "source": [
    "# moments = [Lambda(lambda z: tf.nn.moments(z, axes=[1], keepdims=False)[1])(x2[i]) for i in range(n)]\n",
    "means = [Lambda(lambda z: tf.math.reduce_mean(z,1, keepdims=True))(x2[i]) for i in range(n)]\n",
    "stds = [Lambda(lambda z: tf.math.reduce_std(z,1, keepdims=True))(x2[i]) for i in range(n)]\n",
    "R = [Lambda(lambda z: tf.math.reduce_max(z,1, keepdims=True)-tf.math.reduce_min(z,1, keepdims=True))(x2[i]) for i in range(n)]\n",
    "print(R)\n",
    "Concatenate(1)(means)"
   ]
  },
  {
   "cell_type": "code",
   "execution_count": 1,
   "metadata": {},
   "outputs": [],
   "source": [
    "import tensorflow as tf\n",
    "import numpy as np\n",
    "a = np.arange(8, dtype=\"float32\").reshape(2,4)\n",
    "c = np.ones((2,3,4), dtype=\"float32\")\n",
    "x = tf.reshape(a, (a.shape[0], 1, a.shape[1]))\n",
    "x = tf.tile(x,[1,3,1])\n",
    "x = tf.subtract(x, c)\n",
    "x = tf.multiply(x, x)"
   ]
  },
  {
   "cell_type": "code",
   "execution_count": 2,
   "metadata": {},
   "outputs": [
    {
     "data": {
      "text/plain": [
       "<tf.Tensor: shape=(2, 3), dtype=float32, numpy=\n",
       "array([[ -6.,  -6.,  -6.],\n",
       "       [-86., -86., -86.]], dtype=float32)>"
      ]
     },
     "execution_count": 2,
     "metadata": {},
     "output_type": "execute_result"
    }
   ],
   "source": [
    "x = -tf.reduce_sum(x, 2)\n",
    "x"
   ]
  },
  {
   "cell_type": "code",
   "execution_count": null,
   "metadata": {},
   "outputs": [],
   "source": []
  }
 ],
 "metadata": {
  "interpreter": {
   "hash": "31f2aee4e71d21fbe5cf8b01ff0e069b9275f58929596ceb00d14d90e3e16cd6"
  },
  "kernelspec": {
   "display_name": "Python 3.6.9 64-bit",
   "name": "python3"
  },
  "language_info": {
   "codemirror_mode": {
    "name": "ipython",
    "version": 3
   },
   "file_extension": ".py",
   "mimetype": "text/x-python",
   "name": "python",
   "nbconvert_exporter": "python",
   "pygments_lexer": "ipython3",
   "version": "3.8.10"
  },
  "orig_nbformat": 2
 },
 "nbformat": 4,
 "nbformat_minor": 2
}

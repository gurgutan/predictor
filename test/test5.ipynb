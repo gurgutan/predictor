{
 "cells": [
  {
   "cell_type": "code",
   "execution_count": 1,
   "metadata": {},
   "outputs": [
    {
     "name": "stderr",
     "output_type": "stream",
     "text": [
      "2022-05-13 18:39:20.779146: W tensorflow/stream_executor/platform/default/dso_loader.cc:64] Could not load dynamic library 'libcudart.so.11.0'; dlerror: libcudart.so.11.0: cannot open shared object file: No such file or directory\n",
      "2022-05-13 18:39:20.779170: I tensorflow/stream_executor/cuda/cudart_stub.cc:29] Ignore above cudart dlerror if you do not have a GPU set up on your machine.\n"
     ]
    }
   ],
   "source": [
    "import tensorflow as tf\n",
    "import numpy as np\n",
    "import matplotlib.pyplot as plt\n",
    "import pandas as pd\n",
    "import math\n",
    "from tensorflow.keras.layers import *\n",
    "from dataloader import Dataloader\n",
    "from datetime import datetime\n",
    "from tensorflow.keras.utils import to_categorical\n"
   ]
  },
  {
   "cell_type": "code",
   "execution_count": null,
   "metadata": {},
   "outputs": [],
   "source": [
    "Dense(64)"
   ]
  },
  {
   "cell_type": "code",
   "execution_count": 2,
   "metadata": {},
   "outputs": [
    {
     "name": "stdout",
     "output_type": "stream",
     "text": [
      "Размер train: 110856\n",
      "Размер validation: 27714\n",
      "Размер test: 1\n",
      "Размер окна: 17\n",
      "Размер входа: 16\n",
      "Размер выхода: 1\n",
      "std=0.0015052325325086713, mean=-1.5263187833625125e-06\n"
     ]
    },
    {
     "name": "stderr",
     "output_type": "stream",
     "text": [
      "2022-05-13 18:39:25.565922: W tensorflow/stream_executor/platform/default/dso_loader.cc:64] Could not load dynamic library 'libcudart.so.11.0'; dlerror: libcudart.so.11.0: cannot open shared object file: No such file or directory\n",
      "2022-05-13 18:39:25.566000: W tensorflow/stream_executor/platform/default/dso_loader.cc:64] Could not load dynamic library 'libcublas.so.11'; dlerror: libcublas.so.11: cannot open shared object file: No such file or directory\n",
      "2022-05-13 18:39:25.566063: W tensorflow/stream_executor/platform/default/dso_loader.cc:64] Could not load dynamic library 'libcublasLt.so.11'; dlerror: libcublasLt.so.11: cannot open shared object file: No such file or directory\n",
      "2022-05-13 18:39:25.568030: W tensorflow/stream_executor/platform/default/dso_loader.cc:64] Could not load dynamic library 'libcusolver.so.11'; dlerror: libcusolver.so.11: cannot open shared object file: No such file or directory\n",
      "2022-05-13 18:39:25.568100: W tensorflow/stream_executor/platform/default/dso_loader.cc:64] Could not load dynamic library 'libcusparse.so.11'; dlerror: libcusparse.so.11: cannot open shared object file: No such file or directory\n",
      "2022-05-13 18:39:25.568164: W tensorflow/stream_executor/platform/default/dso_loader.cc:64] Could not load dynamic library 'libcudnn.so.8'; dlerror: libcudnn.so.8: cannot open shared object file: No such file or directory\n",
      "2022-05-13 18:39:25.568176: W tensorflow/core/common_runtime/gpu/gpu_device.cc:1835] Cannot dlopen some GPU libraries. Please make sure the missing libraries mentioned above are installed properly if you would like to use GPU. Follow the guide at https://www.tensorflow.org/install/gpu for how to download and setup the required libraries for your platform.\n",
      "Skipping registering GPU devices...\n",
      "2022-05-13 18:39:25.568463: I tensorflow/core/platform/cpu_feature_guard.cc:142] This TensorFlow binary is optimized with oneAPI Deep Neural Network Library (oneDNN) to use the following CPU instructions in performance-critical operations:  AVX2 FMA\n",
      "To enable them in other operations, rebuild TensorFlow with the appropriate compiler flags.\n",
      "2022-05-13 18:39:25.680989: I tensorflow/compiler/mlir/mlir_graph_optimization_pass.cc:185] None of the MLIR Optimization Passes are enabled (registered 2)\n"
     ]
    },
    {
     "name": "stdout",
     "output_type": "stream",
     "text": [
      "Inputs shape (batch, time, features): (1024, 16, 2)\n",
      "Labels shape (batch, time, features): (1024, 1)\n",
      "std=0.0015052325325086713, mean=-1.5263187833625125e-06\n"
     ]
    },
    {
     "data": {
      "text/plain": [
       "<tf.Tensor: shape=(1024, 16, 2), dtype=float64, numpy=\n",
       "array([[[ 0.29231614, 20.        ],\n",
       "        [-0.05321858, 21.        ],\n",
       "        [-0.60450608, 22.        ],\n",
       "        ...,\n",
       "        [ 0.51161152,  9.        ],\n",
       "        [-0.88359487, 10.        ],\n",
       "        [ 0.19260764, 11.        ]],\n",
       "\n",
       "       [[-0.18603128,  0.        ],\n",
       "        [ 0.09971004,  1.        ],\n",
       "        [-1.26896548,  2.        ],\n",
       "        ...,\n",
       "        [-0.57797521, 13.        ],\n",
       "        [-0.75078213, 14.        ],\n",
       "        [-0.82372224, 15.        ]],\n",
       "\n",
       "       [[ 0.12616169, 17.        ],\n",
       "        [-0.26570305, 18.        ],\n",
       "        [-0.20590962, 19.        ],\n",
       "        ...,\n",
       "        [-0.19933631,  6.        ],\n",
       "        [-0.03983436,  7.        ],\n",
       "        [ 0.29896867,  8.        ]],\n",
       "\n",
       "       ...,\n",
       "\n",
       "       [[-0.19933631,  2.        ],\n",
       "        [ 0.73082769,  3.        ],\n",
       "        [ 0.06644747,  4.        ],\n",
       "        ...,\n",
       "        [ 0.99653226, 15.        ],\n",
       "        [-0.26578224, 16.        ],\n",
       "        [-1.12934184, 17.        ]],\n",
       "\n",
       "       [[-0.13289036, 11.        ],\n",
       "        [-1.66083026, 12.        ],\n",
       "        [ 0.79719448, 13.        ],\n",
       "        ...,\n",
       "        [ 0.06644747,  0.        ],\n",
       "        [-0.33222818,  1.        ],\n",
       "        [ 0.53148991,  2.        ]],\n",
       "\n",
       "       [[-2.        ,  3.        ],\n",
       "        [ 0.43851307,  4.        ],\n",
       "        [ 0.02653238,  5.        ],\n",
       "        ...,\n",
       "        [ 1.4549222 , 16.        ],\n",
       "        [-1.60103679, 17.        ],\n",
       "        [ 1.08950913, 18.        ]]])>"
      ]
     },
     "execution_count": 2,
     "metadata": {},
     "output_type": "execute_result"
    }
   ],
   "source": [
    "loader = Dataloader(input_width=16, label_width=1, shift=1, batch_size=1024)\n",
    "loader.load_tsv(\"../datas/EURUSD_H1.csv\",\"open\", train_ratio=0.8)\n",
    "# a = loader.make_dataset(loader.train_rates, loader.train_hours)\n",
    "loader.show_shapes()\n",
    "loader.example[0]\n",
    "# loader.train.element_spec\n"
   ]
  },
  {
   "cell_type": "code",
   "execution_count": 7,
   "metadata": {},
   "outputs": [
    {
     "data": {
      "text/plain": [
       "TensorShape([8, 2, 8])"
      ]
     },
     "execution_count": 7,
     "metadata": {},
     "output_type": "execute_result"
    }
   ],
   "source": [
    "a = np.arange(64).reshape((8, 2, 4))\n",
    "b = Dense(8)(a)\n",
    "b.shape"
   ]
  },
  {
   "cell_type": "code",
   "execution_count": null,
   "metadata": {},
   "outputs": [],
   "source": [
    "loader = Dataloader(input_width=16, label_width=1, shift=1, batch_size=1024)\n",
    "loader.load_tsv(\"../datas/EURUSD_H1.csv\",\"open\", train_ratio=0.8)\n",
    "# loader.train\n",
    "#loader.df['time'] = pd.to_datetime(loader.df['date']) + pd.to_datetime(loader.df['time'])\n",
    "# timeseries = loader.df['date'].str.cat(loader.df['time'], sep=' ')\n",
    "# loader.df['time'] = pd.to_datetime(timeseries)\n",
    "# loader.df['time'][:10].apply(lambda x: (x.value//(10**9*60*60))%24) #.view('int64')/10**9\n",
    "#int(datetime.now().timestamp())\n",
    "\n"
   ]
  },
  {
   "cell_type": "code",
   "execution_count": null,
   "metadata": {},
   "outputs": [],
   "source": [
    "sections = 6\n",
    "n = sections + 1\n",
    "inputs = Input(shape=(2**sections,), name=\"inputs\")\n",
    "# x = inputs\n",
    "# l1 = Lambda(lambda z: z[:, -(2 ** sections) :])\n",
    "# l2 = [Lambda(lambda z: z[0][:, -(2 ** z[1]) :]) for i in range(n)]\n",
    "a = tf.constant(np.arange(16, dtype='float32').reshape((4,4)))\n",
    "y = tf.nn.moments(a, axes=[1], keepdims=True)\n",
    "z = tf.math.subtract(a,y[0])\n",
    "w = tf.math.divide(z,y[1])\n",
    "# print(a.numpy())\n",
    "print(w)\n",
    "# a1=l1(a)\n",
    "# a2=[l2[i]((a1,i)) for i in range(n)]\n",
    "# a2\n"
   ]
  }
 ],
 "metadata": {
  "kernelspec": {
   "display_name": "Python 3",
   "name": "python3"
  },
  "language_info": {
   "codemirror_mode": {
    "name": "ipython",
    "version": 3
   },
   "file_extension": ".py",
   "mimetype": "text/x-python",
   "name": "python",
   "nbconvert_exporter": "python",
   "pygments_lexer": "ipython3",
   "version": "3.8.10"
  },
  "orig_nbformat": 2
 },
 "nbformat": 4,
 "nbformat_minor": 2
}

{
 "metadata": {
  "language_info": {
   "codemirror_mode": {
    "name": "ipython",
    "version": 3
   },
   "file_extension": ".py",
   "mimetype": "text/x-python",
   "name": "python",
   "nbconvert_exporter": "python",
   "pygments_lexer": "ipython3",
   "version": "3.8.3"
  },
  "orig_nbformat": 2,
  "kernelspec": {
   "name": "python38364bitdd669fdbc79d4481b7189c2d79c64192",
   "display_name": "Python 3.8.3 64-bit"
  },
  "metadata": {
   "interpreter": {
    "hash": "ae7f53e8dd80b02e0612f72962c8cfdaf11ca92c079bdaddd1482a56edc14533"
   }
  }
 },
 "nbformat": 4,
 "nbformat_minor": 2,
 "cells": [
  {
   "cell_type": "code",
   "execution_count": 13,
   "metadata": {},
   "outputs": [],
   "source": [
    "import MetaTrader5 as mt5\n",
    "import pandas as pd"
   ]
  },
  {
   "cell_type": "code",
   "execution_count": 2,
   "metadata": {},
   "outputs": [
    {
     "output_type": "execute_result",
     "data": {
      "text/plain": [
       "True"
      ]
     },
     "metadata": {},
     "execution_count": 2
    }
   ],
   "source": [
    "mt5.initialize(path=\"D:/Dev/Metatrader 5 (VTB Forex)/terminal64.exe\")"
   ]
  },
  {
   "cell_type": "code",
   "execution_count": 14,
   "metadata": {},
   "outputs": [],
   "source": [
    "def __get_last_rates__(count):\n",
    "    mt5rates = mt5.copy_rates_from_pos(\"EURUSD\", mt5.TIMEFRAME_H1, 0, count)\n",
    "    rates = pd.DataFrame(\n",
    "        mt5rates,\n",
    "        columns=[\n",
    "            \"time\",\n",
    "            \"open\",\n",
    "            \"high\",\n",
    "            \"low\",\n",
    "            \"close\",\n",
    "            \"tickvol\",\n",
    "            \"spread\",\n",
    "            \"real_volume\",\n",
    "        ],\n",
    "    )\n",
    "    # logging.debug(\"Получено \" + str(len(rates)) + \" котировок\")\n",
    "    return rates"
   ]
  },
  {
   "cell_type": "code",
   "execution_count": 16,
   "metadata": {},
   "outputs": [
    {
     "output_type": "stream",
     "name": "stdout",
     "text": [
      "          time     open     high      low    close tickvol  spread  \\\n0   1623049200  1.21667  1.21698  1.21633  1.21671     NaN      20   \n1   1623052800  1.21670  1.21671  1.21570  1.21571     NaN      20   \n2   1623056400  1.21570  1.21613  1.21506  1.21517     NaN      20   \n3   1623060000  1.21516  1.21670  1.21440  1.21669     NaN      20   \n4   1623063600  1.21668  1.21668  1.21511  1.21611     NaN      20   \n5   1623067200  1.21611  1.21634  1.21518  1.21599     NaN      20   \n6   1623070800  1.21599  1.21619  1.21496  1.21550     NaN      20   \n7   1623074400  1.21551  1.21751  1.21540  1.21639     NaN      20   \n8   1623078000  1.21640  1.21676  1.21592  1.21625     NaN      20   \n9   1623081600  1.21624  1.21806  1.21605  1.21803     NaN      20   \n10  1623085200  1.21804  1.21908  1.21728  1.21867     NaN      20   \n11  1623088800  1.21866  1.21993  1.21845  1.21976     NaN      20   \n12  1623092400  1.21974  1.22009  1.21928  1.21938     NaN      20   \n13  1623096000  1.21939  1.21974  1.21904  1.21961     NaN      20   \n14  1623099600  1.21961  1.21982  1.21930  1.21936     NaN      20   \n15  1623103200  1.21935  1.21938  1.21915  1.21925     NaN      20   \n\n    real_volume  \n0             0  \n1             0  \n2             0  \n3             0  \n4             0  \n5             0  \n6             0  \n7             0  \n8             0  \n9             0  \n10            0  \n11            0  \n12            0  \n13            0  \n14            0  \n15            0  \n"
     ]
    }
   ],
   "source": [
    "print(__get_last_rates__(16))"
   ]
  },
  {
   "cell_type": "code",
   "execution_count": null,
   "metadata": {},
   "outputs": [],
   "source": []
  }
 ]
}
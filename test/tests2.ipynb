{
 "cells": [
  {
   "cell_type": "code",
   "execution_count": 3,
   "metadata": {},
   "outputs": [
    {
     "data": {
      "text/plain": [
       "True"
      ]
     },
     "execution_count": 3,
     "metadata": {},
     "output_type": "execute_result"
    }
   ],
   "source": [
    "from mt5linux import MetaTrader5\n",
    "# connecto to the server\n",
    "mt5 = MetaTrader5(\n",
    "    # host = 'localhost' (default)\n",
    "    port = 1949\n",
    ")\n",
    "# use as you learned from: https://www.mql5.com/en/docs/integration/python_metatrader5/\n",
    "mt5.initialize()\n",
    "mt5.terminal_info()\n",
    "mt5.copy_rates_from_pos('VALE3', mt5.TIMEFRAME_M1, 0, 1000)\n",
    "# ...\n",
    "# don't forget to shutdown\n",
    "mt5.shutdown()\n"
   ]
  },
  {
   "cell_type": "code",
   "execution_count": null,
   "metadata": {},
   "outputs": [],
   "source": []
  }
 ],
 "metadata": {
  "interpreter": {
   "hash": "916dbcbb3f70747c44a77c7bcd40155683ae19c65e1c03b4aa3499c5328201f1"
  },
  "kernelspec": {
   "display_name": "Python 3.8.10 64-bit",
   "name": "python3"
  },
  "language_info": {
   "codemirror_mode": {
    "name": "ipython",
    "version": 3
   },
   "file_extension": ".py",
   "mimetype": "text/x-python",
   "name": "python",
   "nbconvert_exporter": "python",
   "pygments_lexer": "ipython3",
   "version": "3.8.10"
  },
  "orig_nbformat": 2
 },
 "nbformat": 4,
 "nbformat_minor": 2
}

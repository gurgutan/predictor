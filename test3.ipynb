{
 "metadata": {
  "language_info": {
   "codemirror_mode": {
    "name": "ipython",
    "version": 3
   },
   "file_extension": ".py",
   "mimetype": "text/x-python",
   "name": "python",
   "nbconvert_exporter": "python",
   "pygments_lexer": "ipython3",
   "version": "3.6.9-final"
  },
  "orig_nbformat": 2,
  "kernelspec": {
   "name": "python3",
   "display_name": "Python 3.6.9 64-bit",
   "metadata": {
    "interpreter": {
     "hash": "31f2aee4e71d21fbe5cf8b01ff0e069b9275f58929596ceb00d14d90e3e16cd6"
    }
   }
  }
 },
 "nbformat": 4,
 "nbformat_minor": 2,
 "cells": [
  {
   "cell_type": "code",
   "execution_count": 1,
   "metadata": {},
   "outputs": [],
   "source": [
    "import tensorflow as tf\n",
    "import numpy as np\n",
    "from predictor import Predictor\n",
    "import matplotlib.pyplot as plt\n",
    "import pandas as pd\n",
    "import math\n",
    "from  models import esum2, esum\n",
    "import random"
   ]
  },
  {
   "cell_type": "code",
   "execution_count": 2,
   "metadata": {},
   "outputs": [
    {
     "output_type": "stream",
     "name": "stdout",
     "text": [
      "Размер train: 43447\nРазмер validation: 5430\nРазмер test: 5432\nРазмер окна: 1025\nРазмер входа: 1024\nРазмер выхода: 1\nИндексы входа: [   0    1    2 ... 1021 1022 1023]\nИндексы выхода: [1024]\n"
     ]
    }
   ],
   "source": [
    "input_width = 2**10\n",
    "label_width = 1\n",
    "shift = 1\n",
    "sections = int(math.log2(input_width))\n",
    "model = \"models/spectral\"\n",
    "# model = dense_model((input_width, sample_width), units=2 ** 12, sections=sections)\n",
    "predictor = Predictor(\"datas/EURUSD_H1 copy.csv\", model,\n",
    "    input_width=input_width,\n",
    "    label_width=label_width,\n",
    "    shift=shift,\n",
    "    train_ratio=0.8,\n",
    "    val_ratio=0.1,\n",
    "    test_ratio=0.1,\n",
    "    batch_size=256,\n",
    ")"
   ]
  },
  {
   "cell_type": "code",
   "execution_count": 3,
   "metadata": {
    "tags": []
   },
   "outputs": [
    {
     "output_type": "stream",
     "name": "stdout",
     "text": [
      "(126, 1024) (126, 1)\n"
     ]
    }
   ],
   "source": [
    "df = pd.read_csv(\n",
    "    \"datas/EURUSD_H1 copy.csv\", sep=\"\\t\", header=0, dtype={\"open\": float,\"close\": float,\"tickvol\": float,\"vol\": float},\n",
    "    parse_dates=[[0,1]],\n",
    "    index_col=[0],\n",
    "    names=[\"date\",\"time\",\"open\",\"high\",\"low\",\"close\",\"tickvol\",\"vol\",\"spread\"])\n",
    "t_count = input_width+2**7\n",
    "t_shift = random.randint(0,2**14)\n",
    "prices = df['open'][-t_count-t_shift:-1-t_shift]\n",
    "shift = predictor.dataloader.input_width\n",
    "ds = predictor.dataloader.make_dataset(prices)\n",
    "for i,l in ds:\n",
    "    print(i.shape, l.shape)\n",
    "\n",
    "labels = l.numpy()\n",
    "n = len(labels)\n",
    "# print(i.numpy()[shift+16:].flatten())\n",
    "# print(labels)"
   ]
  },
  {
   "cell_type": "code",
   "execution_count": 5,
   "metadata": {},
   "outputs": [
    {
     "output_type": "error",
     "ename": "SyntaxError",
     "evalue": "invalid syntax (<ipython-input-5-50afcf7793ec>, line 14)",
     "traceback": [
      "\u001b[0;36m  File \u001b[0;32m\"<ipython-input-5-50afcf7793ec>\"\u001b[0;36m, line \u001b[0;32m14\u001b[0m\n\u001b[0;31m    plt.subplots(nrows=1, ncols=1,figsize=(20,6))\u001b[0m\n\u001b[0m      ^\u001b[0m\n\u001b[0;31mSyntaxError\u001b[0m\u001b[0;31m:\u001b[0m invalid syntax\n"
     ]
    }
   ],
   "source": [
    "inputs = []\n",
    "result1 = []\n",
    "t = np.arange(len(prices)+predictor.dataloader.shift)\n",
    "for i in range(len(prices)-predictor.dataloader.total_window_size-1):\n",
    "    inputs.append((prices[i+predictor.dataloader.input_width+1]-prices[i+predictor.dataloader.input_width]))\n",
    "    r = predictor.predict(prices[i:i+predictor.dataloader.input_width+1]).flatten()\n",
    "    # plt.plot(\n",
    "    #     t[i+predictor.dataloader.input_width:i+predictor.dataloader.input_width+predictor.dataloader.shift],\n",
    "    #     r.flatten(),\n",
    "    #     marker='o')\n",
    "    result1.append(r)\n",
    "\n",
    "# outputs = predictor.iterate(prices[:-16], steps=16)\n",
    "plt.subplots(nrows=1, ncols=1,figsize=(20,6))\n",
    "plt.plot(t[1:len(inputs)],inputs[:len(inputs)-1], marker='o')\n",
    "plt.plot(t[:len(inputs)],result1, marker='X')\n",
    "plt.plot(t[:len(inputs)],np.zeros(len(inputs)))\n",
    "# plt.plot(t[-len(outputs):n],outputs, marker='^')"
   ]
  },
  {
   "cell_type": "code",
   "execution_count": 6,
   "metadata": {},
   "outputs": [
    {
     "output_type": "stream",
     "name": "stdout",
     "text": [
      "<class 'numpy.ndarray'>\n"
     ]
    }
   ],
   "source": [
    "print(type(result1[0]))"
   ]
  },
  {
   "cell_type": "code",
   "execution_count": null,
   "metadata": {},
   "outputs": [],
   "source": []
  }
 ]
}
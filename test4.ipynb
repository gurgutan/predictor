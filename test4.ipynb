{
 "metadata": {
  "language_info": {
   "codemirror_mode": {
    "name": "ipython",
    "version": 3
   },
   "file_extension": ".py",
   "mimetype": "text/x-python",
   "name": "python",
   "nbconvert_exporter": "python",
   "pygments_lexer": "ipython3",
   "version": "3.6.9-final"
  },
  "orig_nbformat": 2,
  "kernelspec": {
   "name": "python3",
   "display_name": "Python 3.6.9 64-bit",
   "metadata": {
    "interpreter": {
     "hash": "31f2aee4e71d21fbe5cf8b01ff0e069b9275f58929596ceb00d14d90e3e16cd6"
    }
   }
  }
 },
 "nbformat": 4,
 "nbformat_minor": 2,
 "cells": [
  {
   "cell_type": "code",
   "execution_count": 2,
   "metadata": {},
   "outputs": [],
   "source": [
    "import tensorflow as tf\n",
    "from tensorflow.keras.layers import *\n",
    "import numpy as np\n",
    "import math\n",
    "\n",
    "sample_width = 1\n",
    "input_width = 8\n",
    "sections = int(math.log2(input_width))\n",
    "n = sections + 1\n",
    "# x1 = np.tile(np.random.random(input_width*4).reshape(8),(4,1)).astype(\"float32\").round(3)\n",
    "x1 = np.random.random(input_width*4).reshape(4,input_width).astype(\"float32\").round(3)"
   ]
  },
  {
   "cell_type": "code",
   "execution_count": 4,
   "metadata": {},
   "outputs": [
    {
     "output_type": "execute_result",
     "data": {
      "text/plain": [
       "[<tf.Tensor: shape=(4, 1), dtype=float32, numpy=\n",
       " array([[0.641],\n",
       "        [0.847],\n",
       "        [0.788],\n",
       "        [0.975]], dtype=float32)>,\n",
       " <tf.Tensor: shape=(4, 2), dtype=float32, numpy=\n",
       " array([[0.33 , 0.641],\n",
       "        [0.708, 0.847],\n",
       "        [0.713, 0.788],\n",
       "        [0.062, 0.975]], dtype=float32)>,\n",
       " <tf.Tensor: shape=(4, 4), dtype=float32, numpy=\n",
       " array([[0.119, 0.062, 0.33 , 0.641],\n",
       "        [0.487, 0.477, 0.708, 0.847],\n",
       "        [0.186, 0.398, 0.713, 0.788],\n",
       "        [0.31 , 0.596, 0.062, 0.975]], dtype=float32)>,\n",
       " <tf.Tensor: shape=(4, 8), dtype=float32, numpy=\n",
       " array([[0.705, 0.178, 0.611, 0.6  , 0.119, 0.062, 0.33 , 0.641],\n",
       "        [0.313, 0.294, 0.181, 0.842, 0.487, 0.477, 0.708, 0.847],\n",
       "        [0.441, 0.721, 0.184, 0.138, 0.186, 0.398, 0.713, 0.788],\n",
       "        [0.458, 0.203, 0.51 , 0.445, 0.31 , 0.596, 0.062, 0.975]],\n",
       "       dtype=float32)>]"
      ]
     },
     "metadata": {},
     "execution_count": 4
    }
   ],
   "source": [
    "x2 = [Lambda(lambda z: z[0][:, -(2 ** z[1]) :])((x1, i)) for i in range(n)]\n",
    "x2"
   ]
  },
  {
   "cell_type": "code",
   "execution_count": 5,
   "metadata": {},
   "outputs": [
    {
     "output_type": "stream",
     "name": "stdout",
     "text": [
      "[<tf.Tensor: shape=(4, 1), dtype=float32, numpy=\narray([[0.],\n       [0.],\n       [0.],\n       [0.]], dtype=float32)>, <tf.Tensor: shape=(4, 1), dtype=float32, numpy=\narray([[0.31099996],\n       [0.139     ],\n       [0.07499999],\n       [0.91300005]], dtype=float32)>, <tf.Tensor: shape=(4, 1), dtype=float32, numpy=\narray([[0.579     ],\n       [0.37      ],\n       [0.602     ],\n       [0.91300005]], dtype=float32)>, <tf.Tensor: shape=(4, 1), dtype=float32, numpy=\narray([[0.643     ],\n       [0.666     ],\n       [0.65      ],\n       [0.91300005]], dtype=float32)>]\n"
     ]
    },
    {
     "output_type": "execute_result",
     "data": {
      "text/plain": [
       "<tf.Tensor: shape=(4, 4), dtype=float32, numpy=\n",
       "array([[0.641     , 0.48549998, 0.288     , 0.40574998],\n",
       "       [0.847     , 0.77750003, 0.62975   , 0.518625  ],\n",
       "       [0.788     , 0.75049996, 0.52125   , 0.44612503],\n",
       "       [0.975     , 0.51850003, 0.48575002, 0.444875  ]], dtype=float32)>"
      ]
     },
     "metadata": {},
     "execution_count": 5
    }
   ],
   "source": [
    "# moments = [Lambda(lambda z: tf.nn.moments(z, axes=[1], keepdims=False)[1])(x2[i]) for i in range(n)]\n",
    "means = [Lambda(lambda z: tf.math.reduce_mean(z,1, keepdims=True))(x2[i]) for i in range(n)]\n",
    "stds = [Lambda(lambda z: tf.math.reduce_std(z,1, keepdims=True))(x2[i]) for i in range(n)]\n",
    "R = [Lambda(lambda z: tf.math.reduce_max(z,1, keepdims=True)-tf.math.reduce_min(z,1, keepdims=True))(x2[i]) for i in range(n)]\n",
    "print(R)\n",
    "Concatenate(1)(means)"
   ]
  },
  {
   "cell_type": "code",
   "execution_count": 1,
   "metadata": {},
   "outputs": [],
   "source": [
    "import tensorflow as tf\n",
    "import numpy as np\n",
    "a = np.arange(8, dtype=\"float32\").reshape(2,4)\n",
    "c = np.ones((2,3,4), dtype=\"float32\")\n",
    "x = tf.reshape(a, (a.shape[0], 1, a.shape[1]))\n",
    "x = tf.tile(x,[1,3,1])\n",
    "x = tf.subtract(x, c)\n",
    "x = tf.multiply(x, x)"
   ]
  },
  {
   "cell_type": "code",
   "execution_count": 2,
   "metadata": {},
   "outputs": [
    {
     "output_type": "execute_result",
     "data": {
      "text/plain": [
       "<tf.Tensor: shape=(2, 3), dtype=float32, numpy=\n",
       "array([[ -6.,  -6.,  -6.],\n",
       "       [-86., -86., -86.]], dtype=float32)>"
      ]
     },
     "metadata": {},
     "execution_count": 2
    }
   ],
   "source": [
    "x = -tf.reduce_sum(x, 2)\n",
    "x"
   ]
  },
  {
   "cell_type": "code",
   "execution_count": null,
   "metadata": {},
   "outputs": [],
   "source": []
  }
 ]
}
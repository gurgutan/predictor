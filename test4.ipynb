{
 "metadata": {
  "language_info": {
   "codemirror_mode": {
    "name": "ipython",
    "version": 3
   },
   "file_extension": ".py",
   "mimetype": "text/x-python",
   "name": "python",
   "nbconvert_exporter": "python",
   "pygments_lexer": "ipython3",
   "version": "3.6.9-final"
  },
  "orig_nbformat": 2,
  "kernelspec": {
   "name": "python3",
   "display_name": "Python 3.6.9 64-bit",
   "metadata": {
    "interpreter": {
     "hash": "31f2aee4e71d21fbe5cf8b01ff0e069b9275f58929596ceb00d14d90e3e16cd6"
    }
   }
  }
 },
 "nbformat": 4,
 "nbformat_minor": 2,
 "cells": [
  {
   "cell_type": "code",
   "execution_count": 8,
   "metadata": {},
   "outputs": [],
   "source": [
    "import tensorflow as tf\n",
    "from tensorflow.keras.layers import *\n",
    "import numpy as np\n",
    "import math\n",
    "\n",
    "sample_width = 1\n",
    "input_width = 8\n",
    "sections = int(math.log2(input_width))\n",
    "n = sections + 1\n",
    "# x1 = np.tile(np.random.random(input_width*4).reshape(8),(4,1)).astype(\"float32\").round(3)\n",
    "x1 = np.random.random(input_width*4).reshape(4,input_width).astype(\"float32\").round(3)"
   ]
  },
  {
   "cell_type": "code",
   "execution_count": 9,
   "metadata": {},
   "outputs": [
    {
     "output_type": "execute_result",
     "data": {
      "text/plain": [
       "[<tf.Tensor: shape=(4, 1), dtype=float32, numpy=\n",
       " array([[0.012],\n",
       "        [0.725],\n",
       "        [0.931],\n",
       "        [0.345]], dtype=float32)>,\n",
       " <tf.Tensor: shape=(4, 2), dtype=float32, numpy=\n",
       " array([[0.259, 0.012],\n",
       "        [0.493, 0.725],\n",
       "        [0.541, 0.931],\n",
       "        [0.475, 0.345]], dtype=float32)>,\n",
       " <tf.Tensor: shape=(4, 4), dtype=float32, numpy=\n",
       " array([[0.403, 0.877, 0.259, 0.012],\n",
       "        [0.096, 0.909, 0.493, 0.725],\n",
       "        [0.227, 0.997, 0.541, 0.931],\n",
       "        [0.921, 0.006, 0.475, 0.345]], dtype=float32)>,\n",
       " <tf.Tensor: shape=(4, 8), dtype=float32, numpy=\n",
       " array([[0.099, 0.898, 0.09 , 0.431, 0.403, 0.877, 0.259, 0.012],\n",
       "        [0.003, 0.877, 0.8  , 0.784, 0.096, 0.909, 0.493, 0.725],\n",
       "        [0.155, 0.625, 0.444, 0.351, 0.227, 0.997, 0.541, 0.931],\n",
       "        [0.211, 0.964, 0.639, 0.353, 0.921, 0.006, 0.475, 0.345]],\n",
       "       dtype=float32)>]"
      ]
     },
     "metadata": {},
     "execution_count": 9
    }
   ],
   "source": [
    "x2 = [Lambda(lambda z: z[0][:, -(2 ** z[1]) :])((x1, i)) for i in range(n)]\n",
    "x2"
   ]
  },
  {
   "cell_type": "code",
   "execution_count": 24,
   "metadata": {},
   "outputs": [
    {
     "output_type": "stream",
     "name": "stdout",
     "text": [
      "[<tf.Tensor: shape=(4, 1), dtype=float32, numpy=\narray([[0.012],\n       [0.725],\n       [0.931],\n       [0.345]], dtype=float32)>, <tf.Tensor: shape=(4, 1), dtype=float32, numpy=\narray([[0.1355],\n       [0.609 ],\n       [0.736 ],\n       [0.41  ]], dtype=float32)>, <tf.Tensor: shape=(4, 1), dtype=float32, numpy=\narray([[0.38775],\n       [0.55575],\n       [0.674  ],\n       [0.43675]], dtype=float32)>, <tf.Tensor: shape=(4, 1), dtype=float32, numpy=\narray([[0.38362497],\n       [0.58587503],\n       [0.533875  ],\n       [0.48924997]], dtype=float32)>]\n"
     ]
    },
    {
     "output_type": "execute_result",
     "data": {
      "text/plain": [
       "<tf.Tensor: shape=(4, 4), dtype=float32, numpy=\n",
       "array([[0.012     , 0.1355    , 0.38775   , 0.38362497],\n",
       "       [0.725     , 0.609     , 0.55575   , 0.58587503],\n",
       "       [0.931     , 0.736     , 0.674     , 0.533875  ],\n",
       "       [0.345     , 0.41      , 0.43675   , 0.48924997]], dtype=float32)>"
      ]
     },
     "metadata": {},
     "execution_count": 24
    }
   ],
   "source": [
    "# moments = [Lambda(lambda z: tf.nn.moments(z, axes=[1], keepdims=False)[1])(x2[i]) for i in range(n)]\n",
    "means = [Lambda(lambda z: tf.math.reduce_mean(z,1, keepdims=True))(x2[i]) for i in range(n)]\n",
    "stds = [Lambda(lambda z: tf.math.reduce_std(z,1, keepdims=True))(x2[i]) for i in range(n)]\n",
    "print(means)\n",
    "Concatenate(1)(means)"
   ]
  },
  {
   "cell_type": "code",
   "execution_count": null,
   "metadata": {},
   "outputs": [],
   "source": []
  }
 ]
}
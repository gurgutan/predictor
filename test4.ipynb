{
 "metadata": {
  "language_info": {
   "codemirror_mode": {
    "name": "ipython",
    "version": 3
   },
   "file_extension": ".py",
   "mimetype": "text/x-python",
   "name": "python",
   "nbconvert_exporter": "python",
   "pygments_lexer": "ipython3",
   "version": "3.6.9-final"
  },
  "orig_nbformat": 2,
  "kernelspec": {
   "name": "Python 3.6.9 64-bit",
   "display_name": "Python 3.6.9 64-bit",
   "metadata": {
    "interpreter": {
     "hash": "31f2aee4e71d21fbe5cf8b01ff0e069b9275f58929596ceb00d14d90e3e16cd6"
    }
   }
  }
 },
 "nbformat": 4,
 "nbformat_minor": 2,
 "cells": [
  {
   "cell_type": "code",
   "execution_count": 16,
   "metadata": {},
   "outputs": [
    {
     "output_type": "execute_result",
     "data": {
      "text/plain": [
       "array([[[ 0.9756098 ,  0.9876543 ,  0.9917355 ,  0.99378884,\n",
       "          0.99502486],\n",
       "        [-0.9756098 , -0.9876543 , -0.9917355 , -0.99378884,\n",
       "         -0.99502486]]], dtype=float32)"
      ]
     },
     "metadata": {},
     "execution_count": 16
    }
   ],
   "source": [
    "import tensorflow as tf\n",
    "import numpy as np\n",
    "\n",
    "y = tf.constant([[[1, 2, 3, 4, 5],[-1,-2,-3,-4, -5]]], dtype='float32')*40\n",
    "s = tf.math.softsign(y)\n",
    "s.numpy()\n"
   ]
  },
  {
   "cell_type": "code",
   "execution_count": 1,
   "metadata": {},
   "outputs": [
    {
     "output_type": "execute_result",
     "data": {
      "text/plain": [
       "<tf.Tensor: shape=(4, 4), dtype=float32, numpy=\n",
       "array([[ 0.6661075 , -0.94669586, -0.77445054,  0.7149933 ],\n",
       "       [ 0.6661075 , -0.94669586, -0.77445054,  0.7149933 ],\n",
       "       [ 0.6661075 , -0.94669586, -0.77445054,  0.7149933 ],\n",
       "       [ 0.6661075 , -0.94669586, -0.77445054,  0.7149933 ]],\n",
       "      dtype=float32)>"
      ]
     },
     "metadata": {},
     "execution_count": 1
    }
   ],
   "source": [
    "import tensorflow as tf\n",
    "from tensorflow.keras.layers import *\n",
    "import numpy as np\n",
    "import math\n",
    "\n",
    "sample_width = 1\n",
    "input_width = 8\n",
    "sections = int(math.log2(input_width))\n",
    "n = sections + 1\n",
    "y = np.tile(np.arange(input_width, dtype='float32').reshape(1,8,1),(4,1,1))\n",
    "x = [Lambda(lambda z: z[:, -(2 ** i) :, :])(y) for i in range(n)]\n",
    "x = [AveragePooling1D(pool_size=2 ** i, strides=1)(x[i]) for i in range(n)]\n",
    "x = Concatenate(axis=1)(x)\n",
    "x = Flatten()(x)\n",
    "x = Dense(4, \"softsign\")(x)\n",
    "x"
   ]
  },
  {
   "cell_type": "code",
   "execution_count": null,
   "metadata": {},
   "outputs": [],
   "source": []
  }
 ]
}
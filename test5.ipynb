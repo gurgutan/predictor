{
 "metadata": {
  "language_info": {
   "codemirror_mode": {
    "name": "ipython",
    "version": 3
   },
   "file_extension": ".py",
   "mimetype": "text/x-python",
   "name": "python",
   "nbconvert_exporter": "python",
   "pygments_lexer": "ipython3",
   "version": "3.7.4-final"
  },
  "orig_nbformat": 2,
  "kernelspec": {
   "name": "python3",
   "display_name": "Python 3"
  }
 },
 "nbformat": 4,
 "nbformat_minor": 2,
 "cells": [
  {
   "cell_type": "code",
   "execution_count": 2,
   "metadata": {},
   "outputs": [],
   "source": [
    "import tensorflow as tf\n",
    "import numpy as np\n",
    "from predictor import Predictor\n",
    "from models import *\n",
    "import matplotlib.pyplot as plt\n",
    "import pandas as pd\n",
    "import math\n",
    "from tensorflow.keras.layers import *"
   ]
  },
  {
   "cell_type": "code",
   "execution_count": 4,
   "metadata": {},
   "outputs": [
    {
     "output_type": "stream",
     "name": "stdout",
     "text": [
      "tf.Tensor(\n[[-1.2 -0.4  0.4  1.2]\n [-1.2 -0.4  0.4  1.2]\n [-1.2 -0.4  0.4  1.2]\n [-1.2 -0.4  0.4  1.2]], shape=(4, 4), dtype=float32)\n"
     ]
    }
   ],
   "source": [
    "sections = 6\n",
    "n = sections + 1\n",
    "inputs = Input(shape=(2**sections,), name=\"inputs\")\n",
    "# x = inputs\n",
    "# l1 = Lambda(lambda z: z[:, -(2 ** sections) :])\n",
    "# l2 = [Lambda(lambda z: z[0][:, -(2 ** z[1]) :]) for i in range(n)]\n",
    "a = tf.constant(np.arange(16, dtype='float32').reshape((4,4)))\n",
    "y = tf.nn.moments(a, axes=[1], keepdims=True)\n",
    "z = tf.math.subtract(a,y[0])\n",
    "w = tf.math.divide(z,y[1])\n",
    "# print(a.numpy())\n",
    "print(w)\n",
    "# a1=l1(a)\n",
    "# a2=[l2[i]((a1,i)) for i in range(n)]\n",
    "# a2\n"
   ]
  },
  {
   "cell_type": "code",
   "execution_count": null,
   "metadata": {},
   "outputs": [],
   "source": [
    "x = [Conv1D(16, 2 ** i, padding=\"valid\", name=f\"c1-{i}\")(x[i]) for i in range(n)]\n",
    "x = [Lambda(lambda z: z[:, -(2 ** i) :, :])(x) for i in range(n)]\n",
    "x = [Flatten()(x[i]) for i in range(n)]\n",
    "x = Concatenate(axis=1)(x)\n",
    "x = Flatten()(x)\n",
    "x = Dense(units, \"sigmoid\")(x)\n",
    "x = Dense(64, \"tanh\")(x)\n",
    "x = Dense(8, \"tanh\")(x)\n",
    "x = Dense(input_shape[-1], kernel_regularizer=l2)(x)\n",
    "outputs = x\n",
    "model = keras.Model(inputs, outputs, name=\"trendencoder\")\n",
    "MAE = keras.metrics.MeanAbsoluteError()\n",
    "RMSE = keras.metrics.RootMeanSquaredError()\n",
    "model.compile(\n",
    "    loss=keras.losses.MeanSquaredError(),\n",
    "    optimizer=keras.optimizers.Adam(learning_rate=1e-2),\n",
    "    metrics=[MAE],\n",
    ")\n",
    "print(model.summary())\n"
   ]
  },
  {
   "cell_type": "code",
   "execution_count": 6,
   "metadata": {},
   "outputs": [
    {
     "output_type": "execute_result",
     "data": {
      "text/plain": [
       "1.0"
      ]
     },
     "metadata": {},
     "execution_count": 6
    }
   ],
   "source": [
    "y_true = [[-1., 1.], [1., -1.]]\n",
    "y_pred = [[1., -1.], [-1., 1.]]\n",
    "# Using 'auto'/'sum_over_batch_size' reduction type.\n",
    "\n",
    "# mse = tf.keras.losses.MeanSquaredError(reduction=tf.keras.losses.Reduction.SUM)\n",
    "mse = tf.keras.losses.MeanSquaredError()\n",
    "mse(y_true, y_pred).numpy()\n"
   ]
  },
  {
   "cell_type": "code",
   "execution_count": null,
   "metadata": {},
   "outputs": [],
   "source": []
  }
 ]
}
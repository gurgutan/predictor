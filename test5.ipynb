{
 "metadata": {
  "language_info": {
   "codemirror_mode": {
    "name": "ipython",
    "version": 3
   },
   "file_extension": ".py",
   "mimetype": "text/x-python",
   "name": "python",
   "nbconvert_exporter": "python",
   "pygments_lexer": "ipython3",
   "version": "3.7.4-final"
  },
  "orig_nbformat": 2,
  "kernelspec": {
   "name": "python3",
   "display_name": "Python 3"
  }
 },
 "nbformat": 4,
 "nbformat_minor": 2,
 "cells": [
  {
   "cell_type": "code",
   "execution_count": 3,
   "metadata": {},
   "outputs": [],
   "source": [
    "import tensorflow as tf\n",
    "import numpy as np\n",
    "from predictor import Predictor\n",
    "from models import *\n",
    "import matplotlib.pyplot as plt\n",
    "import pandas as pd\n",
    "import math\n",
    "from tensorflow.keras.layers import *"
   ]
  },
  {
   "cell_type": "code",
   "execution_count": 20,
   "metadata": {},
   "outputs": [
    {
     "output_type": "execute_result",
     "data": {
      "text/plain": [
       "[<tf.Tensor: shape=(2, 1), dtype=int64, numpy=\n",
       " array([[ 63],\n",
       "        [127]])>, <tf.Tensor: shape=(2, 2), dtype=int64, numpy=\n",
       " array([[ 62,  63],\n",
       "        [126, 127]])>, <tf.Tensor: shape=(2, 4), dtype=int64, numpy=\n",
       " array([[ 60,  61,  62,  63],\n",
       "        [124, 125, 126, 127]])>, <tf.Tensor: shape=(2, 8), dtype=int64, numpy=\n",
       " array([[ 56,  57,  58,  59,  60,  61,  62,  63],\n",
       "        [120, 121, 122, 123, 124, 125, 126, 127]])>, <tf.Tensor: shape=(2, 16), dtype=int64, numpy=\n",
       " array([[ 48,  49,  50,  51,  52,  53,  54,  55,  56,  57,  58,  59,  60,\n",
       "          61,  62,  63],\n",
       "        [112, 113, 114, 115, 116, 117, 118, 119, 120, 121, 122, 123, 124,\n",
       "         125, 126, 127]])>, <tf.Tensor: shape=(2, 32), dtype=int64, numpy=\n",
       " array([[ 32,  33,  34,  35,  36,  37,  38,  39,  40,  41,  42,  43,  44,\n",
       "          45,  46,  47,  48,  49,  50,  51,  52,  53,  54,  55,  56,  57,\n",
       "          58,  59,  60,  61,  62,  63],\n",
       "        [ 96,  97,  98,  99, 100, 101, 102, 103, 104, 105, 106, 107, 108,\n",
       "         109, 110, 111, 112, 113, 114, 115, 116, 117, 118, 119, 120, 121,\n",
       "         122, 123, 124, 125, 126, 127]])>, <tf.Tensor: shape=(2, 64), dtype=int64, numpy=\n",
       " array([[  0,   1,   2,   3,   4,   5,   6,   7,   8,   9,  10,  11,  12,\n",
       "          13,  14,  15,  16,  17,  18,  19,  20,  21,  22,  23,  24,  25,\n",
       "          26,  27,  28,  29,  30,  31,  32,  33,  34,  35,  36,  37,  38,\n",
       "          39,  40,  41,  42,  43,  44,  45,  46,  47,  48,  49,  50,  51,\n",
       "          52,  53,  54,  55,  56,  57,  58,  59,  60,  61,  62,  63],\n",
       "        [ 64,  65,  66,  67,  68,  69,  70,  71,  72,  73,  74,  75,  76,\n",
       "          77,  78,  79,  80,  81,  82,  83,  84,  85,  86,  87,  88,  89,\n",
       "          90,  91,  92,  93,  94,  95,  96,  97,  98,  99, 100, 101, 102,\n",
       "         103, 104, 105, 106, 107, 108, 109, 110, 111, 112, 113, 114, 115,\n",
       "         116, 117, 118, 119, 120, 121, 122, 123, 124, 125, 126, 127]])>]"
      ]
     },
     "metadata": {},
     "execution_count": 20
    }
   ],
   "source": [
    "sections = 6\n",
    "n = sections + 1\n",
    "inputs = Input(shape=(2**sections,1), name=\"inputs\")\n",
    "# x = inputs\n",
    "l1 = Lambda(lambda z: z[:, -(2 ** sections) :])\n",
    "l2 = [Lambda(lambda z: z[0][:, -(2 ** z[1]) :]) for i in range(n)]\n",
    "a=np.arange(128).reshape((2,64))\n",
    "a1=l1(a)\n",
    "a2=[l2[i]((a1,i)) for i in range(n)]\n",
    "a2\n"
   ]
  },
  {
   "cell_type": "code",
   "execution_count": null,
   "metadata": {},
   "outputs": [],
   "source": [
    "x = [Conv1D(16, 2 ** i, padding=\"valid\", name=f\"c1-{i}\")(x[i]) for i in range(n)]\n",
    "x = [Lambda(lambda z: z[:, -(2 ** i) :, :])(x) for i in range(n)]\n",
    "x = [Flatten()(x[i]) for i in range(n)]\n",
    "x = Concatenate(axis=1)(x)\n",
    "x = Flatten()(x)\n",
    "x = Dense(units, \"sigmoid\")(x)\n",
    "x = Dense(64, \"tanh\")(x)\n",
    "x = Dense(8, \"tanh\")(x)\n",
    "x = Dense(input_shape[-1], kernel_regularizer=l2)(x)\n",
    "outputs = x\n",
    "model = keras.Model(inputs, outputs, name=\"trendencoder\")\n",
    "MAE = keras.metrics.MeanAbsoluteError()\n",
    "RMSE = keras.metrics.RootMeanSquaredError()\n",
    "model.compile(\n",
    "    loss=keras.losses.MeanSquaredError(),\n",
    "    optimizer=keras.optimizers.Adam(learning_rate=1e-2),\n",
    "    metrics=[MAE],\n",
    ")\n",
    "print(model.summary())\n"
   ]
  }
 ]
}
{
 "metadata": {
  "language_info": {
   "codemirror_mode": {
    "name": "ipython",
    "version": 3
   },
   "file_extension": ".py",
   "mimetype": "text/x-python",
   "name": "python",
   "nbconvert_exporter": "python",
   "pygments_lexer": "ipython3",
   "version": "3.6.9-final"
  },
  "orig_nbformat": 2,
  "kernelspec": {
   "name": "python_defaultSpec_1596699693331",
   "display_name": "Python 3.6.9 64-bit"
  }
 },
 "nbformat": 4,
 "nbformat_minor": 2,
 "cells": [
  {
   "cell_type": "code",
   "execution_count": 15,
   "metadata": {
    "tags": []
   },
   "outputs": [
    {
     "output_type": "stream",
     "name": "stdout",
     "text": "[0.14084507 0.28169014 0.42253521 0.14084507 0.01408451]\n[0.125  0.0625 0.4375 0.3125 0.0625]\n"
    }
   ],
   "source": [
    "import numpy as np\n",
    "y=np.array([[0.1,0.2,0.3,.1,.01],[0.2,0.1,.7,.5,.1]])\n",
    "l1 = np.sum(y,axis=1)\n",
    "for i in range(len(y)):\n",
    "    y[i] /= l1[i]\n",
    "    print(y[i])\n"
   ]
  },
  {
   "cell_type": "code",
   "execution_count": null,
   "metadata": {},
   "outputs": [],
   "source": []
  }
 ]
}
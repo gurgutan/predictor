{
 "metadata": {
  "language_info": {
   "codemirror_mode": {
    "name": "ipython",
    "version": 3
   },
   "file_extension": ".py",
   "mimetype": "text/x-python",
   "name": "python",
   "nbconvert_exporter": "python",
   "pygments_lexer": "ipython3",
   "version": "3.8.3-final"
  },
  "orig_nbformat": 2,
  "kernelspec": {
   "name": "python38364bitdd669fdbc79d4481b7189c2d79c64192",
   "display_name": "Python 3.8.3 64-bit"
  }
 },
 "nbformat": 4,
 "nbformat_minor": 2,
 "cells": [
  {
   "cell_type": "code",
   "execution_count": 6,
   "metadata": {},
   "outputs": [],
   "source": [
    "def unembed(n: int, min_v: float, max_v: float, dim: int) -> float:\n",
    "    step_size = float((max_v - min_v) / (dim-1))\n",
    "    v = min_v + n * step_size\n",
    "    return v"
   ]
  },
  {
   "cell_type": "code",
   "execution_count": 7,
   "metadata": {
    "tags": []
   },
   "outputs": [
    {
     "output_type": "stream",
     "name": "stdout",
     "text": "-4.0\n-2.857142857142857\n-1.7142857142857144\n-0.5714285714285716\n0.5714285714285712\n1.7142857142857135\n2.8571428571428568\n4.0\n"
    }
   ],
   "source": [
    "for i in range(0,8):\n",
    "    print(unembed(i,-4,4,8))"
   ]
  },
  {
   "cell_type": "code",
   "execution_count": 11,
   "metadata": {},
   "outputs": [],
   "source": [
    "def embed(v, min_v, max_v, dim):\n",
    "    \"\"\"Возвращает бинарный вектор, длины dim\"\"\"\n",
    "    step_size = dim / (max_v - min_v)\n",
    "    n = int(max(0, min(dim, (v - min_v) * step_size)))\n",
    "    # result = np.zeros(dim, dtype=\"float32\")\n",
    "    result = np.full(dim, 0, dtype=\"float32\")\n",
    "    result[n] = 0.9\n",
    "    return result"
   ]
  },
  {
   "cell_type": "code",
   "execution_count": 12,
   "metadata": {
    "tags": []
   },
   "outputs": [
    {
     "output_type": "stream",
     "name": "stdout",
     "text": "[0.9 0.  0.  0.  0.  0.  0.  0. ]\n[0.  0.9 0.  0.  0.  0.  0.  0. ]\n[0.  0.  0.9 0.  0.  0.  0.  0. ]\n[0.  0.  0.  0.9 0.  0.  0.  0. ]\n[0.  0.  0.  0.  0.9 0.  0.  0. ]\n[0.  0.  0.  0.  0.  0.9 0.  0. ]\n[0.  0.  0.  0.  0.  0.  0.9 0. ]\n[0.  0.  0.  0.  0.  0.  0.  0.9]\n"
    }
   ],
   "source": [
    "import numpy as np\n",
    "for i in range(-4,4):\n",
    "    print(embed(i,-4,4,8))"
   ]
  },
  {
   "cell_type": "code",
   "execution_count": null,
   "metadata": {},
   "outputs": [],
   "source": [
    "\n"
   ]
  }
 ]
}
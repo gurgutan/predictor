{
 "metadata": {
  "language_info": {
   "codemirror_mode": {
    "name": "ipython",
    "version": 3
   },
   "file_extension": ".py",
   "mimetype": "text/x-python",
   "name": "python",
   "nbconvert_exporter": "python",
   "pygments_lexer": "ipython3",
   "version": "3.8.3-final"
  },
  "orig_nbformat": 2,
  "kernelspec": {
   "name": "python_defaultSpec_1596652864079",
   "display_name": "Python 3.6.9 64-bit"
  }
 },
 "nbformat": 4,
 "nbformat_minor": 2,
 "cells": [
  {
   "cell_type": "code",
   "execution_count": 6,
   "metadata": {},
   "outputs": [],
   "source": [
    "def unembed(n: int, min_v: float, max_v: float, dim: int) -> float:\n",
    "    step_size = float((max_v - min_v) / (dim-1))\n",
    "    v = min_v + n * step_size\n",
    "    return v"
   ]
  },
  {
   "cell_type": "code",
   "execution_count": 7,
   "metadata": {
    "tags": []
   },
   "outputs": [
    {
     "output_type": "stream",
     "name": "stdout",
     "text": "-4.0\n-2.857142857142857\n-1.7142857142857144\n-0.5714285714285716\n0.5714285714285712\n1.7142857142857135\n2.8571428571428568\n4.0\n"
    }
   ],
   "source": [
    "for i in range(0,8):\n",
    "    print(unembed(i,-4,4,8))"
   ]
  },
  {
   "cell_type": "code",
   "execution_count": 11,
   "metadata": {},
   "outputs": [],
   "source": [
    "def embed(v, min_v, max_v, dim):\n",
    "    \"\"\"Возвращает бинарный вектор, длины dim\"\"\"\n",
    "    step_size = dim / (max_v - min_v)\n",
    "    n = int(max(0, min(dim, (v - min_v) * step_size)))\n",
    "    # result = np.zeros(dim, dtype=\"float32\")\n",
    "    result = np.full(dim, 0, dtype=\"float32\")\n",
    "    result[n] = 0.9\n",
    "    return result"
   ]
  },
  {
   "cell_type": "code",
   "execution_count": 12,
   "metadata": {
    "tags": []
   },
   "outputs": [
    {
     "output_type": "stream",
     "name": "stdout",
     "text": "[0.9 0.  0.  0.  0.  0.  0.  0. ]\n[0.  0.9 0.  0.  0.  0.  0.  0. ]\n[0.  0.  0.9 0.  0.  0.  0.  0. ]\n[0.  0.  0.  0.9 0.  0.  0.  0. ]\n[0.  0.  0.  0.  0.9 0.  0.  0. ]\n[0.  0.  0.  0.  0.  0.9 0.  0. ]\n[0.  0.  0.  0.  0.  0.  0.9 0. ]\n[0.  0.  0.  0.  0.  0.  0.  0.9]\n"
    }
   ],
   "source": [
    "import numpy as np\n",
    "for i in range(-4,4):\n",
    "    print(embed(i,-4,4,8))"
   ]
  },
  {
   "cell_type": "code",
   "execution_count": 15,
   "metadata": {
    "tags": []
   },
   "outputs": [
    {
     "output_type": "stream",
     "name": "stdout",
     "text": "[0.14084507 0.28169014 0.42253521 0.14084507 0.01408451]\n[0.125  0.0625 0.4375 0.3125 0.0625]\n"
    }
   ],
   "source": [
    "import numpy as np\n",
    "y=np.array([[0.1,0.2,0.3,.1,.01],[0.2,0.1,.7,.5,.1]])\n",
    "l1 = np.sum(y,axis=1)\n",
    "for i in range(len(y)):\n",
    "    y[i] /= l1[i]\n",
    "    print(y[i])\n"
   ]
  },
  {
   "cell_type": "code",
   "execution_count": null,
   "metadata": {},
   "outputs": [],
   "source": []
  }
 ]
}
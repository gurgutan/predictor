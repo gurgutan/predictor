{
 "metadata": {
  "language_info": {
   "codemirror_mode": {
    "name": "ipython",
    "version": 3
   },
   "file_extension": ".py",
   "mimetype": "text/x-python",
   "name": "python",
   "nbconvert_exporter": "python",
   "pygments_lexer": "ipython3",
   "version": "3.6.9-final"
  },
  "orig_nbformat": 2,
  "kernelspec": {
   "name": "Python 3.6.9 64-bit",
   "display_name": "Python 3.6.9 64-bit",
   "metadata": {
    "interpreter": {
     "hash": "31f2aee4e71d21fbe5cf8b01ff0e069b9275f58929596ceb00d14d90e3e16cd6"
    }
   }
  }
 },
 "nbformat": 4,
 "nbformat_minor": 2,
 "cells": [
  {
   "cell_type": "code",
   "execution_count": 8,
   "metadata": {},
   "outputs": [],
   "source": [
    "import numpy as np\n",
    "import pandas as pd\n",
    "import sklearn.preprocessing as preprocessing\n",
    "import tensorflow as tf\n"
   ]
  },
  {
   "cell_type": "code",
   "execution_count": 6,
   "metadata": {},
   "outputs": [],
   "source": [
    "df = pd.read_csv(\n",
    "    \"datas/EURUSD_H1.csv\",\n",
    "    sep=\"\\t\",\n",
    "    nrows=2**16,\n",
    "    header=0,\n",
    "    dtype={\n",
    "        \"open\": np.float64,\n",
    "        \"close\": np.float64,\n",
    "        \"tickvol\": np.float64,\n",
    "        \"vol\": np.float64,\n",
    "    },\n",
    "    parse_dates=[[0,1]],\n",
    "    index_col=[0],\n",
    "    names=[\"date\",\"time\",\"open\",\"high\",\"low\",\"close\",\"tickvol\",\"vol\",\"spread\"])"
   ]
  },
  {
   "cell_type": "code",
   "execution_count": 7,
   "metadata": {},
   "outputs": [],
   "source": [
    "prices = np.nan_to_num(np.array(df[\"open\"]), posinf=0, neginf=0)\n",
    "prices_diff = np.diff(prices[: -64])\n",
    "x = np.reshape(prices_diff[: -64], (-1, 1))"
   ]
  },
  {
   "cell_type": "code",
   "execution_count": 44,
   "metadata": {
    "tags": []
   },
   "outputs": [
    {
     "output_type": "stream",
     "name": "stdout",
     "text": "39314\n54935\n"
    }
   ],
   "source": [
    "print(len(df.index))\n",
    "df = df.asfreq(freq='5min')\n",
    "df = df.fillna(method='ffill')\n",
    "print(len(df.index))"
   ]
  },
  {
   "cell_type": "code",
   "execution_count": 16,
   "metadata": {},
   "outputs": [],
   "source": [
    "def shifted_mse(y_true, y_pred):\n",
    "    y_true_sign = np.sign(y_true)\n",
    "    y_pred_sign = np.sign(y_pred)\n",
    "    d = tf.keras.losses.mean_squared_error(y_true + y_true_sign, y_pred + y_pred_sign)\n",
    "    return d\n",
    "\n",
    "def mse(y_true, y_pred):\n",
    "    d = tf.keras.losses.mean_squared_error(y_true, y_pred)\n",
    "    return d \n"
   ]
  },
  {
   "cell_type": "code",
   "execution_count": 30,
   "metadata": {},
   "outputs": [
    {
     "output_type": "stream",
     "name": "stdout",
     "text": [
      "4.840000000000001\n0.04000000000000001\n"
     ]
    }
   ],
   "source": [
    "x=np.array([-0.1])\n",
    "y=np.array([0.1])\n",
    "print(shifted_mse(x,y).numpy())\n",
    "print(mse(x,y).numpy())"
   ]
  },
  {
   "cell_type": "code",
   "execution_count": 33,
   "metadata": {},
   "outputs": [
    {
     "output_type": "execute_result",
     "data": {
      "text/plain": [
       "0.00021926"
      ]
     },
     "metadata": {},
     "execution_count": 33
    }
   ],
   "source": [
    "2.1926*10**(-4)"
   ]
  },
  {
   "cell_type": "code",
   "execution_count": null,
   "metadata": {},
   "outputs": [],
   "source": []
  }
 ]
}
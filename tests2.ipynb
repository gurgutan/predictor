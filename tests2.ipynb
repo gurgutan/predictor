{
 "metadata": {
  "language_info": {
   "codemirror_mode": {
    "name": "ipython",
    "version": 3
   },
   "file_extension": ".py",
   "mimetype": "text/x-python",
   "name": "python",
   "nbconvert_exporter": "python",
   "pygments_lexer": "ipython3",
   "version": "3.6.9-final"
  },
  "orig_nbformat": 2,
  "kernelspec": {
   "name": "Python 3.6.9 64-bit",
   "display_name": "Python 3.6.9 64-bit",
   "metadata": {
    "interpreter": {
     "hash": "31f2aee4e71d21fbe5cf8b01ff0e069b9275f58929596ceb00d14d90e3e16cd6"
    }
   }
  }
 },
 "nbformat": 4,
 "nbformat_minor": 2,
 "cells": [
  {
   "cell_type": "code",
   "execution_count": 2,
   "metadata": {},
   "outputs": [],
   "source": [
    "import numpy as np\n",
    "import pandas as pd\n",
    "import sklearn.preprocessing as preprocessing\n",
    "import tensorflow as tf\n"
   ]
  },
  {
   "cell_type": "code",
   "execution_count": 2,
   "metadata": {},
   "outputs": [],
   "source": [
    "df = pd.read_csv(\n",
    "    \"datas/EURUSD_H1 copy.csv\",\n",
    "    sep=\"\\t\",\n",
    "    # nrows=2**16,\n",
    "    header=0,\n",
    "    dtype={\n",
    "        \"open\": np.float32,\n",
    "        \"close\": np.float32,\n",
    "        \"tickvol\": np.float32,\n",
    "        \"vol\": np.float32,\n",
    "    },\n",
    "    parse_dates=[[0,1]],\n",
    "    index_col=[0],\n",
    "    names=[\"date\",\"time\",\"open\",\"high\",\"low\",\"close\",\"tickvol\",\"vol\",\"spread\"])\n",
    "size= len(df.index)"
   ]
  },
  {
   "cell_type": "code",
   "execution_count": 3,
   "metadata": {},
   "outputs": [
    {
     "output_type": "stream",
     "name": "stdout",
     "text": [
      "(54304,)\n"
     ]
    },
    {
     "output_type": "execute_result",
     "data": {
      "text/plain": [
       "0.0012349293"
      ]
     },
     "metadata": {},
     "execution_count": 3
    }
   ],
   "source": [
    "width = 8\n",
    "start = len(df.index)%width\n",
    "prices = np.nan_to_num(np.array(df[\"open\"][start:]), posinf=0, neginf=0)\n",
    "prices_diff = np.diff(prices[1: -64])\n",
    "print(prices.shape)\n",
    "# norm = tf.keras.layers.LayerNormalization(axis=1)\n",
    "# nx=norm(prices).numpy()\n",
    "prices_diff.std()\n",
    "\n",
    "# print(norm(prices).numpy())"
   ]
  },
  {
   "cell_type": "code",
   "execution_count": 44,
   "metadata": {
    "tags": []
   },
   "outputs": [
    {
     "output_type": "stream",
     "name": "stdout",
     "text": "39314\n54935\n"
    }
   ],
   "source": [
    "print(len(df.index))\n",
    "df = df.asfreq(freq='5min')\n",
    "df = df.fillna(method='ffill')\n",
    "print(len(df.index))"
   ]
  },
  {
   "cell_type": "code",
   "execution_count": 24,
   "metadata": {},
   "outputs": [],
   "source": [
    "def shifted_mse(y_true, y_pred):\n",
    "    y_true_sign = tf.math.softsign(y_true)\n",
    "    y_pred_sign = tf.math.softsign(y_pred)\n",
    "    d = tf.keras.losses.mean_squared_error(y_true + y_true_sign, y_pred + y_pred_sign)\n",
    "    return d\n",
    "\n",
    "def mse(y_true, y_pred):\n",
    "    d = tf.keras.losses.mean_squared_error(y_true, y_pred)\n",
    "    return d \n"
   ]
  },
  {
   "cell_type": "code",
   "execution_count": 44,
   "metadata": {},
   "outputs": [
    {
     "output_type": "stream",
     "name": "stdout",
     "text": [
      "2.3100990197039506\n1.0201\n"
     ]
    }
   ],
   "source": [
    "x=np.array([-1.0])\n",
    "y=np.array([0.01])\n",
    "print(shifted_mse(x,y).numpy())\n",
    "print(mse(x,y).numpy())"
   ]
  },
  {
   "cell_type": "code",
   "execution_count": 3,
   "metadata": {},
   "outputs": [
    {
     "output_type": "stream",
     "name": "stdout",
     "text": [
      "tf.Tensor(\n[[[-1.6269401 ]\n  [-1.4100147 ]\n  [-1.1930895 ]\n  [-0.9761641 ]\n  [-0.7592387 ]\n  [-0.54231334]\n  [-0.32538807]\n  [-0.10846269]\n  [ 0.10846269]\n  [ 0.32538807]\n  [ 0.54231346]\n  [ 0.75923884]\n  [ 0.976164  ]\n  [ 1.1930894 ]\n  [ 1.4100147 ]\n  [ 1.6269401 ]]\n\n [[-1.6269403 ]\n  [-1.4100149 ]\n  [-1.1930895 ]\n  [-0.97616434]\n  [-0.7592387 ]\n  [-0.5423136 ]\n  [-0.32538795]\n  [-0.10846281]\n  [ 0.10846233]\n  [ 0.32538795]\n  [ 0.5423131 ]\n  [ 0.7592387 ]\n  [ 0.97616386]\n  [ 1.1930895 ]\n  [ 1.4100146 ]\n  [ 1.6269403 ]]\n\n [[-1.6269398 ]\n  [-1.4100146 ]\n  [-1.193089  ]\n  [-0.97616386]\n  [-0.75923824]\n  [-0.5423126 ]\n  [-0.32538795]\n  [-0.10846233]\n  [ 0.10846329]\n  [ 0.32538795]\n  [ 0.5423136 ]\n  [ 0.7592392 ]\n  [ 0.9761648 ]\n  [ 1.1930895 ]\n  [ 1.4100151 ]\n  [ 1.6269407 ]]\n\n [[-1.6269407 ]\n  [-1.4100151 ]\n  [-1.1930895 ]\n  [-0.97616386]\n  [-0.7592392 ]\n  [-0.5423136 ]\n  [-0.32538795]\n  [-0.10846233]\n  [ 0.10846233]\n  [ 0.32538795]\n  [ 0.5423136 ]\n  [ 0.75923824]\n  [ 0.97616386]\n  [ 1.1930895 ]\n  [ 1.4100151 ]\n  [ 1.6269398 ]]\n\n [[-1.6269398 ]\n  [-1.4100142 ]\n  [-1.1930895 ]\n  [-0.97616386]\n  [-0.75923824]\n  [-0.5423126 ]\n  [-0.32538795]\n  [-0.10846233]\n  [ 0.10846329]\n  [ 0.32538795]\n  [ 0.5423145 ]\n  [ 0.7592392 ]\n  [ 0.97616386]\n  [ 1.1930904 ]\n  [ 1.4100151 ]\n  [ 1.6269398 ]]\n\n [[-1.6269398 ]\n  [-1.4100151 ]\n  [-1.1930904 ]\n  [-0.97616386]\n  [-0.7592392 ]\n  [-0.5423126 ]\n  [-0.32538795]\n  [-0.10846329]\n  [ 0.10846329]\n  [ 0.32538795]\n  [ 0.5423126 ]\n  [ 0.7592392 ]\n  [ 0.97616386]\n  [ 1.1930885 ]\n  [ 1.4100151 ]\n  [ 1.6269398 ]]\n\n [[-1.6269417 ]\n  [-1.4100151 ]\n  [-1.1930904 ]\n  [-0.97616386]\n  [-0.7592392 ]\n  [-0.5423145 ]\n  [-0.32538795]\n  [-0.10846329]\n  [ 0.10846138]\n  [ 0.32538795]\n  [ 0.5423126 ]\n  [ 0.7592373 ]\n  [ 0.97616386]\n  [ 1.1930885 ]\n  [ 1.4100151 ]\n  [ 1.6269398 ]]\n\n [[-1.6269398 ]\n  [-1.4100132 ]\n  [-1.1930885 ]\n  [-0.97616386]\n  [-0.7592373 ]\n  [-0.5423126 ]\n  [-0.32538795]\n  [-0.10846138]\n  [ 0.10846329]\n  [ 0.32538795]\n  [ 0.5423145 ]\n  [ 0.7592392 ]\n  [ 0.9761658 ]\n  [ 1.1930904 ]\n  [ 1.4100151 ]\n  [ 1.6269417 ]]\n\n [[-1.6269398 ]\n  [-1.4100151 ]\n  [-1.1930885 ]\n  [-0.97616386]\n  [-0.7592392 ]\n  [-0.5423126 ]\n  [-0.32538795]\n  [-0.10846138]\n  [ 0.10846329]\n  [ 0.32538795]\n  [ 0.5423145 ]\n  [ 0.7592392 ]\n  [ 0.97616386]\n  [ 1.1930904 ]\n  [ 1.4100151 ]\n  [ 1.6269398 ]]\n\n [[-1.6269379 ]\n  [-1.4100132 ]\n  [-1.1930885 ]\n  [-0.97616196]\n  [-0.7592354 ]\n  [-0.5423126 ]\n  [-0.32538605]\n  [-0.10845947]\n  [ 0.10846329]\n  [ 0.32538986]\n  [ 0.54231644]\n  [ 0.7592392 ]\n  [ 0.9761658 ]\n  [ 1.1930923 ]\n  [ 1.4100151 ]\n  [ 1.6269417 ]]\n\n [[-1.6269379 ]\n  [-1.4100151 ]\n  [-1.1930885 ]\n  [-0.97616196]\n  [-0.7592392 ]\n  [-0.5423126 ]\n  [-0.32538605]\n  [-0.10845947]\n  [ 0.10846329]\n  [ 0.32538986]\n  [ 0.54231644]\n  [ 0.7592392 ]\n  [ 0.9761658 ]\n  [ 1.1930923 ]\n  [ 1.4100151 ]\n  [ 1.6269417 ]]\n\n [[-1.6269379 ]\n  [-1.4100151 ]\n  [-1.1930885 ]\n  [-0.97616196]\n  [-0.7592392 ]\n  [-0.5423126 ]\n  [-0.32538605]\n  [-0.10846329]\n  [ 0.10846329]\n  [ 0.32538986]\n  [ 0.5423126 ]\n  [ 0.7592392 ]\n  [ 0.9761658 ]\n  [ 1.1930885 ]\n  [ 1.4100151 ]\n  [ 1.6269417 ]]\n\n [[-1.6269417 ]\n  [-1.4100151 ]\n  [-1.1930885 ]\n  [-0.97616196]\n  [-0.7592392 ]\n  [-0.5423126 ]\n  [-0.32538605]\n  [-0.10846329]\n  [ 0.10846329]\n  [ 0.32538986]\n  [ 0.5423126 ]\n  [ 0.7592392 ]\n  [ 0.9761658 ]\n  [ 1.1930885 ]\n  [ 1.4100151 ]\n  [ 1.6269417 ]]\n\n [[-1.6269417 ]\n  [-1.4100151 ]\n  [-1.1930885 ]\n  [-0.9761658 ]\n  [-0.7592392 ]\n  [-0.5423126 ]\n  [-0.32538986]\n  [-0.10846329]\n  [ 0.10846329]\n  [ 0.32538605]\n  [ 0.5423126 ]\n  [ 0.7592392 ]\n  [ 0.9761658 ]\n  [ 1.1930885 ]\n  [ 1.4100151 ]\n  [ 1.6269417 ]]\n\n [[-1.6269417 ]\n  [-1.4100151 ]\n  [-1.1930885 ]\n  [-0.9761658 ]\n  [-0.7592392 ]\n  [-0.5423126 ]\n  [-0.32538986]\n  [-0.10846329]\n  [ 0.10846329]\n  [ 0.32538605]\n  [ 0.5423126 ]\n  [ 0.7592392 ]\n  [ 0.97616196]\n  [ 1.1930885 ]\n  [ 1.4100151 ]\n  [ 1.6269379 ]]\n\n [[-1.6269417 ]\n  [-1.4100151 ]\n  [-1.1930923 ]\n  [-0.9761658 ]\n  [-0.7592392 ]\n  [-0.5423126 ]\n  [-0.32538986]\n  [-0.10846329]\n  [ 0.10846329]\n  [ 0.32538605]\n  [ 0.5423126 ]\n  [ 0.7592392 ]\n  [ 0.97616196]\n  [ 1.1930885 ]\n  [ 1.4100151 ]\n  [ 1.6269379 ]]], shape=(16, 16, 1), dtype=float32)\n"
     ]
    }
   ],
   "source": [
    "norm = tf.keras.layers.LayerNormalization(axis=1)\n",
    "x = np.arange(256, dtype='float32').reshape((16,16,1))\n",
    "print(norm(x))\n"
   ]
  },
  {
   "cell_type": "code",
   "execution_count": null,
   "metadata": {},
   "outputs": [],
   "source": []
  }
 ]
}
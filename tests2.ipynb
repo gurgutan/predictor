{
 "metadata": {
  "language_info": {
   "codemirror_mode": {
    "name": "ipython",
    "version": 3
   },
   "file_extension": ".py",
   "mimetype": "text/x-python",
   "name": "python",
   "nbconvert_exporter": "python",
   "pygments_lexer": "ipython3",
   "version": "3.8.3-final"
  },
  "orig_nbformat": 2,
  "kernelspec": {
   "name": "Python 3.8.3 64-bit",
   "display_name": "Python 3.8.3 64-bit",
   "metadata": {
    "interpreter": {
     "hash": "ae7f53e8dd80b02e0612f72962c8cfdaf11ca92c079bdaddd1482a56edc14533"
    }
   }
  }
 },
 "nbformat": 4,
 "nbformat_minor": 2,
 "cells": [
  {
   "cell_type": "code",
   "execution_count": 9,
   "metadata": {},
   "outputs": [],
   "source": [
    "import numpy as np\n",
    "import pandas as pd\n",
    "import sklearn.preprocessing as preprocessing\n"
   ]
  },
  {
   "cell_type": "code",
   "execution_count": 12,
   "metadata": {},
   "outputs": [],
   "source": [
    "df = pd.read_csv(\n",
    "    \"datas/EURUSD_M5.csv\",\n",
    "    sep=\"\\t\",\n",
    "    nrows=2**16,\n",
    "    header=0,\n",
    "    dtype={\n",
    "        \"open\": np.float64,\n",
    "        \"close\": np.float64,\n",
    "        \"tickvol\": np.float64,\n",
    "        \"vol\": np.float64,\n",
    "    },\n",
    "    parse_dates=[[0,1]],\n",
    "    index_col=[0],\n",
    "    names=[\"date\",\"time\",\"open\",\"high\",\"low\",\"close\",\"tickvol\",\"vol\",\"spread\"])"
   ]
  },
  {
   "cell_type": "code",
   "execution_count": 13,
   "metadata": {},
   "outputs": [],
   "source": [
    "prices = np.nan_to_num(np.array(df[\"open\"]), posinf=0, neginf=0)\n",
    "prices_diff = np.diff(prices[: -64])\n",
    "x = np.reshape(prices_diff[: -64], (-1, 1))"
   ]
  },
  {
   "cell_type": "code",
   "execution_count": 18,
   "metadata": {},
   "outputs": [
    {
     "output_type": "stream",
     "name": "stdout",
     "text": [
      "[0.] [0.0004]\n-24.250000000002775 48.00000000000527\n"
     ]
    },
    {
     "output_type": "execute_result",
     "data": {
      "text/plain": [
       "array([[ 1.5 ],\n",
       "       [-0.25],\n",
       "       [ 0.25],\n",
       "       [ 0.75],\n",
       "       [ 1.25],\n",
       "       [ 0.  ],\n",
       "       [-0.25],\n",
       "       [-2.  ],\n",
       "       [ 2.75],\n",
       "       [ 1.25],\n",
       "       [ 8.75],\n",
       "       [-0.25],\n",
       "       [-0.75],\n",
       "       [-0.5 ],\n",
       "       [-0.5 ],\n",
       "       [ 1.  ],\n",
       "       [ 1.75],\n",
       "       [-0.25],\n",
       "       [ 0.5 ],\n",
       "       [ 0.5 ],\n",
       "       [ 1.25],\n",
       "       [-1.  ],\n",
       "       [ 1.  ],\n",
       "       [-1.25],\n",
       "       [-0.25],\n",
       "       [ 0.25],\n",
       "       [ 1.75],\n",
       "       [-1.25],\n",
       "       [ 1.25],\n",
       "       [-0.5 ],\n",
       "       [ 0.5 ],\n",
       "       [ 0.  ],\n",
       "       [ 1.75],\n",
       "       [ 1.5 ],\n",
       "       [ 3.75],\n",
       "       [ 4.5 ],\n",
       "       [-2.  ],\n",
       "       [ 2.  ],\n",
       "       [-0.75],\n",
       "       [ 0.  ],\n",
       "       [-1.25],\n",
       "       [ 0.  ],\n",
       "       [-0.5 ],\n",
       "       [ 0.25],\n",
       "       [-0.5 ],\n",
       "       [-0.5 ],\n",
       "       [-0.5 ],\n",
       "       [-0.25],\n",
       "       [ 0.25],\n",
       "       [-1.5 ],\n",
       "       [ 0.5 ],\n",
       "       [ 0.  ],\n",
       "       [-0.75],\n",
       "       [ 0.25],\n",
       "       [ 1.  ],\n",
       "       [-1.  ],\n",
       "       [ 0.  ],\n",
       "       [ 0.  ],\n",
       "       [ 1.  ],\n",
       "       [-1.  ],\n",
       "       [ 0.25],\n",
       "       [ 0.75],\n",
       "       [-1.5 ],\n",
       "       [ 0.25]])"
      ]
     },
     "metadata": {},
     "execution_count": 18
    }
   ],
   "source": [
    "scaler = preprocessing.RobustScaler()\n",
    "scaler.fit(x)\n",
    "x_scaled = scaler.transform(x)\n",
    "print(scaler.center_, scaler.scale_)\n",
    "print(np.min(x_scaled), np.max(x_scaled))\n",
    "x_scaled[:64]"
   ]
  },
  {
   "cell_type": "code",
   "execution_count": 44,
   "metadata": {
    "tags": []
   },
   "outputs": [
    {
     "output_type": "stream",
     "name": "stdout",
     "text": "39314\n54935\n"
    }
   ],
   "source": [
    "print(len(df.index))\n",
    "df = df.asfreq(freq='5min')\n",
    "df = df.fillna(method='ffill')\n",
    "print(len(df.index))"
   ]
  },
  {
   "cell_type": "code",
   "execution_count": null,
   "metadata": {},
   "outputs": [],
   "source": []
  }
 ]
}
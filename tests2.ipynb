{
 "metadata": {
  "language_info": {
   "codemirror_mode": {
    "name": "ipython",
    "version": 3
   },
   "file_extension": ".py",
   "mimetype": "text/x-python",
   "name": "python",
   "nbconvert_exporter": "python",
   "pygments_lexer": "ipython3",
   "version": "3.6.9-final"
  },
  "orig_nbformat": 2,
  "kernelspec": {
   "name": "Python 3.6.9 64-bit",
   "display_name": "Python 3.6.9 64-bit",
   "metadata": {
    "interpreter": {
     "hash": "31f2aee4e71d21fbe5cf8b01ff0e069b9275f58929596ceb00d14d90e3e16cd6"
    }
   }
  }
 },
 "nbformat": 4,
 "nbformat_minor": 2,
 "cells": [
  {
   "cell_type": "code",
   "execution_count": 5,
   "metadata": {},
   "outputs": [],
   "source": [
    "import numpy as np\n",
    "import pandas as pd\n",
    "import sklearn.preprocessing as preprocessing\n"
   ]
  },
  {
   "cell_type": "code",
   "execution_count": 6,
   "metadata": {},
   "outputs": [],
   "source": [
    "df = pd.read_csv(\n",
    "    \"datas/EURUSD_H1.csv\",\n",
    "    sep=\"\\t\",\n",
    "    nrows=2**16,\n",
    "    header=0,\n",
    "    dtype={\n",
    "        \"open\": np.float64,\n",
    "        \"close\": np.float64,\n",
    "        \"tickvol\": np.float64,\n",
    "        \"vol\": np.float64,\n",
    "    },\n",
    "    parse_dates=[[0,1]],\n",
    "    index_col=[0],\n",
    "    names=[\"date\",\"time\",\"open\",\"high\",\"low\",\"close\",\"tickvol\",\"vol\",\"spread\"])"
   ]
  },
  {
   "cell_type": "code",
   "execution_count": 7,
   "metadata": {},
   "outputs": [],
   "source": [
    "prices = np.nan_to_num(np.array(df[\"open\"]), posinf=0, neginf=0)\n",
    "prices_diff = np.diff(prices[: -64])\n",
    "x = np.reshape(prices_diff[: -64], (-1, 1))"
   ]
  },
  {
   "cell_type": "code",
   "execution_count": 8,
   "metadata": {},
   "outputs": [
    {
     "output_type": "stream",
     "name": "stdout",
     "text": [
      "[0.] [0.0014]\n-17.78571428571619 21.642857142859523\n"
     ]
    },
    {
     "output_type": "execute_result",
     "data": {
      "text/plain": [
       "array([[ 4.        ],\n",
       "       [ 0.78571429],\n",
       "       [ 2.14285714],\n",
       "       [ 0.21428571],\n",
       "       [-0.14285714],\n",
       "       [ 0.        ],\n",
       "       [ 0.21428571],\n",
       "       [-1.42857143],\n",
       "       [-0.85714286],\n",
       "       [-1.85714286],\n",
       "       [ 0.        ],\n",
       "       [ 0.14285714],\n",
       "       [-2.42857143],\n",
       "       [ 0.21428571],\n",
       "       [-0.07142857],\n",
       "       [-0.64285714],\n",
       "       [ 5.5       ],\n",
       "       [ 0.07142857],\n",
       "       [ 3.71428571],\n",
       "       [ 0.78571429],\n",
       "       [ 3.92857143],\n",
       "       [-1.14285714],\n",
       "       [-0.92857143],\n",
       "       [-0.07142857],\n",
       "       [-0.42857143],\n",
       "       [ 1.64285714],\n",
       "       [-0.64285714],\n",
       "       [-0.85714286],\n",
       "       [ 0.78571429],\n",
       "       [-0.28571429],\n",
       "       [-0.07142857],\n",
       "       [-0.78571429],\n",
       "       [ 0.42857143],\n",
       "       [ 0.5       ],\n",
       "       [-1.28571429],\n",
       "       [ 3.21428571],\n",
       "       [ 3.71428571],\n",
       "       [-0.5       ],\n",
       "       [-0.35714286],\n",
       "       [ 1.21428571],\n",
       "       [-2.14285714],\n",
       "       [ 0.71428571],\n",
       "       [-0.28571429],\n",
       "       [-1.92857143],\n",
       "       [ 1.28571429],\n",
       "       [ 0.5       ],\n",
       "       [-0.64285714],\n",
       "       [-0.21428571],\n",
       "       [ 0.21428571],\n",
       "       [-0.35714286],\n",
       "       [-0.21428571],\n",
       "       [ 0.14285714],\n",
       "       [ 0.        ],\n",
       "       [ 1.64285714],\n",
       "       [ 0.14285714],\n",
       "       [ 0.21428571],\n",
       "       [ 3.42857143],\n",
       "       [ 1.5       ],\n",
       "       [-1.71428571],\n",
       "       [ 0.21428571],\n",
       "       [-0.92857143],\n",
       "       [ 0.5       ],\n",
       "       [ 0.28571429],\n",
       "       [ 0.35714286]])"
      ]
     },
     "metadata": {},
     "execution_count": 8
    }
   ],
   "source": [
    "scaler = preprocessing.RobustScaler()\n",
    "scaler.fit(x)\n",
    "x_scaled = scaler.transform(x)\n",
    "print(scaler.center_, scaler.scale_)\n",
    "print(np.min(x_scaled), np.max(x_scaled))\n",
    "x_scaled[:64]"
   ]
  },
  {
   "cell_type": "code",
   "execution_count": 44,
   "metadata": {
    "tags": []
   },
   "outputs": [
    {
     "output_type": "stream",
     "name": "stdout",
     "text": "39314\n54935\n"
    }
   ],
   "source": [
    "print(len(df.index))\n",
    "df = df.asfreq(freq='5min')\n",
    "df = df.fillna(method='ffill')\n",
    "print(len(df.index))"
   ]
  }
 ]
}